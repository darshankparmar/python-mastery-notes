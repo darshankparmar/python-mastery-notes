{
  "nbformat": 4,
  "nbformat_minor": 0,
  "metadata": {
    "colab": {
      "provenance": []
    },
    "kernelspec": {
      "name": "python3",
      "display_name": "Python 3"
    },
    "language_info": {
      "name": "python"
    }
  },
  "cells": [
    {
      "cell_type": "code",
      "execution_count": 1,
      "metadata": {
        "colab": {
          "base_uri": "https://localhost:8080/"
        },
        "id": "T4z77PTeGIWg",
        "outputId": "0345ca67-14f7-4b59-cd60-6ed88e4ccd98"
      },
      "outputs": [
        {
          "output_type": "stream",
          "name": "stdout",
          "text": [
            "→ Calling add with args=(3, 4), kwargs={}\n",
            "← add returned 7\n",
            "→ Calling greet with args=('dkp',), kwargs={}\n",
            "← greet returned 'Hello, dkp!'\n"
          ]
        }
      ],
      "source": [
        "# First principles: a decorator is a callable that takes a function (or class)\n",
        "# and returns a new function (or class).\n",
        "\n",
        "def log_calls(fn):\n",
        "    # 'fn' is the function being decorated\n",
        "    def wrapper(*args, **kwargs):\n",
        "        print(f\"→ Calling {fn.__name__} with args={args}, kwargs={kwargs}\")\n",
        "        result = fn(*args, **kwargs)\n",
        "        print(f\"← {fn.__name__} returned {result!r}\")\n",
        "        return result\n",
        "    return wrapper  # Returning the new callable\n",
        "\n",
        "@log_calls  # Equivalent to: add = log_calls(add)\n",
        "def add(a, b):\n",
        "    \"\"\"Add two numbers.\"\"\"\n",
        "    return a + b\n",
        "\n",
        "@log_calls\n",
        "def greet(name):\n",
        "    \"\"\"Return a greeting.\"\"\"\n",
        "    return f\"Hello, {name}!\"\n",
        "\n",
        "# Using the decorated functions\n",
        "sum_result = add(3, 4)\n",
        "message = greet(\"dkp\")"
      ]
    },
    {
      "cell_type": "code",
      "source": [
        "from functools import wraps\n",
        "\n",
        "def log_calls(fn):\n",
        "    @wraps(fn)  # Preserves fn.__name__, fn.__doc__, etc.\n",
        "    def wrapper(*args, **kwargs):\n",
        "        print(f\"→ {fn.__name__}({args}, {kwargs})\")\n",
        "        result = fn(*args, **kwargs)\n",
        "        print(f\"← {result!r}\")\n",
        "        return result\n",
        "    return wrapper\n",
        "\n",
        "@log_calls\n",
        "def multiply(a: int, b: int) -> int:\n",
        "    \"\"\"Multiply two integers together.\"\"\"\n",
        "    return a * b\n",
        "\n",
        "# Using the decorated function\n",
        "product = multiply(6, 7)\n",
        "\n",
        "# Checking the preserved metadata\n",
        "print(f\"Name: {multiply.__name__}\")\n",
        "print(f\"Doc: {multiply.__doc__}\")\n",
        "print(f\"Annotations: {multiply.__annotations__}\")"
      ],
      "metadata": {
        "colab": {
          "base_uri": "https://localhost:8080/"
        },
        "id": "fbpP-OLeQ3ZP",
        "outputId": "7ee19356-6eff-4124-8fe5-18f9d376c66d"
      },
      "execution_count": 2,
      "outputs": [
        {
          "output_type": "stream",
          "name": "stdout",
          "text": [
            "→ multiply((6, 7), {})\n",
            "← 42\n",
            "Name: multiply\n",
            "Doc: Multiply two integers together.\n",
            "Annotations: {'a': <class 'int'>, 'b': <class 'int'>, 'return': <class 'int'>}\n"
          ]
        }
      ]
    },
    {
      "cell_type": "code",
      "source": [
        "from functools import wraps\n",
        "import time\n",
        "import random\n",
        "\n",
        "def retry(tries=3):\n",
        "    \"\"\"A decorator that retries the function call if it fails.\"\"\"\n",
        "    def deco(fn):\n",
        "        @wraps(fn)\n",
        "        def wrapper(*args, **kwargs):\n",
        "            for i in range(tries):\n",
        "                try:\n",
        "                    return fn(*args, **kwargs)\n",
        "                except Exception as e:\n",
        "                    print(f\"Attempt {i+1} failed: {e}\")\n",
        "                    if i == tries - 1:\n",
        "                        print(\"No more retries — raising exception.\")\n",
        "                        raise\n",
        "                    wait = 2**i * 0.1\n",
        "                    print(f\"Retrying in {wait:.1f} seconds...\")\n",
        "                    time.sleep(wait)\n",
        "        return wrapper\n",
        "    return deco\n",
        "\n",
        "@retry(tries=5)  # Customize retry attempts\n",
        "def flaky_function():\n",
        "    \"\"\"Randomly fails to simulate instability.\"\"\"\n",
        "    if random.random() < 0.7:  # 70% chance to fail\n",
        "        raise ValueError(\"Random failure occurred.\")\n",
        "    return \"Success!\"\n",
        "\n",
        "# Running the decorated function\n",
        "print(flaky_function())"
      ],
      "metadata": {
        "colab": {
          "base_uri": "https://localhost:8080/"
        },
        "id": "y0qFWmVpQ9Zm",
        "outputId": "0d6980cd-29fa-4792-c31f-46b4589c3356"
      },
      "execution_count": 3,
      "outputs": [
        {
          "output_type": "stream",
          "name": "stdout",
          "text": [
            "Attempt 1 failed: Random failure occurred.\n",
            "Retrying in 0.1 seconds...\n",
            "Attempt 2 failed: Random failure occurred.\n",
            "Retrying in 0.2 seconds...\n",
            "Success!\n"
          ]
        }
      ]
    },
    {
      "cell_type": "code",
      "source": [
        "from dataclasses import dataclass\n",
        "\n",
        "# Class decorator that injects a __repr__ method\n",
        "def add_repr(cls):\n",
        "    def __repr__(self):\n",
        "        return f\"{cls.__name__}({self.__dict__})\"\n",
        "    cls.__repr__ = __repr__\n",
        "    return cls\n",
        "\n",
        "@add_repr\n",
        "class C:\n",
        "    def __init__(self, x):\n",
        "        self.x = x\n",
        "\n",
        "@dataclass\n",
        "@add_repr\n",
        "class Point:\n",
        "    x: int\n",
        "    y: int\n",
        "\n",
        "# Using the decorated classes\n",
        "c = C(42)\n",
        "p = Point(3, 4)\n",
        "\n",
        "print(c)  # Output: C({'x': 42})\n",
        "print(p)  # Output: Point({'x': 3, 'y': 4})"
      ],
      "metadata": {
        "colab": {
          "base_uri": "https://localhost:8080/"
        },
        "id": "u0Foh_WNRECg",
        "outputId": "9cb867dd-5a69-4b19-f0f2-84f0a323661d"
      },
      "execution_count": 4,
      "outputs": [
        {
          "output_type": "stream",
          "name": "stdout",
          "text": [
            "C({'x': 42})\n",
            "Point({'x': 3, 'y': 4})\n"
          ]
        }
      ]
    },
    {
      "cell_type": "code",
      "source": [
        "import time\n",
        "\n",
        "class cached_property:\n",
        "    \"\"\"A data descriptor that caches the result of a method after first call.\"\"\"\n",
        "    def __init__(self, fn):\n",
        "        self.fn = fn\n",
        "        self.attr = f\"_{fn.__name__}_cache\"\n",
        "\n",
        "    def __get__(self, obj, owner):\n",
        "        if obj is None:  # Accessed on the class, not instance\n",
        "            return self\n",
        "        if not hasattr(obj, self.attr):\n",
        "            print(f\"Computing {self.fn.__name__} for the first time...\")\n",
        "            setattr(obj, self.attr, self.fn(obj))\n",
        "        return getattr(obj, self.attr)\n",
        "\n",
        "class Circle:\n",
        "    def __init__(self, radius):\n",
        "        self.radius = radius\n",
        "\n",
        "    @cached_property\n",
        "    def area(self):\n",
        "        \"\"\"Expensive area computation (simulated with sleep).\"\"\"\n",
        "        time.sleep(1)  # Simulate slow calculation\n",
        "        return 3.14159 * (self.radius ** 2)\n",
        "\n",
        "# --- Using the cached property ---\n",
        "c = Circle(10)\n",
        "\n",
        "print(\"First access to c.area:\")\n",
        "print(c.area)  # Computes and caches\n",
        "print(\"\\nSecond access to c.area:\")\n",
        "print(c.area)  # Returns cached value instantly"
      ],
      "metadata": {
        "colab": {
          "base_uri": "https://localhost:8080/"
        },
        "id": "KCt8EfHRRJJQ",
        "outputId": "2a77b751-491d-457c-a58d-ca41ba252cfa"
      },
      "execution_count": 5,
      "outputs": [
        {
          "output_type": "stream",
          "name": "stdout",
          "text": [
            "First access to c.area:\n",
            "Computing area for the first time...\n",
            "314.159\n",
            "\n",
            "Second access to c.area:\n",
            "314.159\n"
          ]
        }
      ]
    },
    {
      "cell_type": "markdown",
      "source": [
        "### Pitfalls & Testing\n",
        "\n",
        "1. **Hidden side-effects**\n",
        "\n",
        "   * Without a clear docstring or using `functools.wraps` for function decorators, the fact that something is cached might be unclear to maintainers.\n",
        "   * This can cause bugs if the underlying data changes but the cached result doesn’t update.\n",
        "\n",
        "2. **Single responsibility**\n",
        "\n",
        "   * Keep decorators focused — this `cached_property` only does caching.\n",
        "   * Don’t also add logging, retries, or unrelated features; that makes it harder to reason about and test.\n",
        "\n",
        "3. **Testing**\n",
        "\n",
        "   * In unit tests, explicitly check that the function is called only once per instance.\n",
        "   * You might also add a `.clear_cache()` method to the decorator for testing and debugging."
      ],
      "metadata": {
        "id": "s5kIaQzCRc34"
      }
    },
    {
      "cell_type": "markdown",
      "source": [
        "## Exercises\n",
        "1. Implement `timeit` decorator that records run time to a logger.\n",
        "2. Write an `authorize(role)` decorator that checks a context object.\n",
        "3. Build `validate(schema)` that validates kwargs and raises `TypeError`."
      ],
      "metadata": {
        "id": "53PAoqvjRjBp"
      }
    }
  ]
}