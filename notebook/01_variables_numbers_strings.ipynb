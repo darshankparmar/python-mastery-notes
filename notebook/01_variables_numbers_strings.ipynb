{
  "nbformat": 4,
  "nbformat_minor": 0,
  "metadata": {
    "colab": {
      "provenance": []
    },
    "kernelspec": {
      "name": "python3",
      "display_name": "Python 3"
    },
    "language_info": {
      "name": "python"
    }
  },
  "cells": [
    {
      "cell_type": "code",
      "execution_count": 1,
      "metadata": {
        "id": "eLe-LkL18kdf"
      },
      "outputs": [],
      "source": [
        "a = [1, 2, 3]\n",
        "b = a"
      ]
    },
    {
      "cell_type": "code",
      "source": [
        "print(a)\n",
        "print(b)"
      ],
      "metadata": {
        "colab": {
          "base_uri": "https://localhost:8080/"
        },
        "id": "rB7qkWHC8qtz",
        "outputId": "9af77725-d12e-44f2-9eb2-d1e8b5575f76"
      },
      "execution_count": 2,
      "outputs": [
        {
          "output_type": "stream",
          "name": "stdout",
          "text": [
            "[1, 2, 3]\n",
            "[1, 2, 3]\n"
          ]
        }
      ]
    },
    {
      "cell_type": "code",
      "source": [
        "b.append(4)"
      ],
      "metadata": {
        "id": "lTA_ehHJ8sQL"
      },
      "execution_count": 3,
      "outputs": []
    },
    {
      "cell_type": "code",
      "source": [
        "print(a)\n",
        "print(b)"
      ],
      "metadata": {
        "colab": {
          "base_uri": "https://localhost:8080/"
        },
        "id": "YfcS4TVI8tZ7",
        "outputId": "a7315126-cd0e-4fbe-e66b-cb92bf479c7a"
      },
      "execution_count": 4,
      "outputs": [
        {
          "output_type": "stream",
          "name": "stdout",
          "text": [
            "[1, 2, 3, 4]\n",
            "[1, 2, 3, 4]\n"
          ]
        }
      ]
    },
    {
      "cell_type": "code",
      "source": [
        "assert a is b\n",
        "assert a == [1, 2, 3, 4]"
      ],
      "metadata": {
        "id": "HIOyAM5Q8up7"
      },
      "execution_count": 7,
      "outputs": []
    },
    {
      "cell_type": "code",
      "source": [
        "# tuples are immutable\n",
        "\n",
        "tuple1 = (0, 1, 2, 3)\n",
        "tuple1[0] = 4\n",
        "print(tuple1)"
      ],
      "metadata": {
        "colab": {
          "base_uri": "https://localhost:8080/",
          "height": 198
        },
        "id": "0HnB_6RU9Xz9",
        "outputId": "35ab5394-3952-411b-8c29-ab543dd827ef"
      },
      "execution_count": 8,
      "outputs": [
        {
          "output_type": "error",
          "ename": "TypeError",
          "evalue": "'tuple' object does not support item assignment",
          "traceback": [
            "\u001b[0;31m---------------------------------------------------------------------------\u001b[0m",
            "\u001b[0;31mTypeError\u001b[0m                                 Traceback (most recent call last)",
            "\u001b[0;32m/tmp/ipython-input-4205227538.py\u001b[0m in \u001b[0;36m<cell line: 0>\u001b[0;34m()\u001b[0m\n\u001b[1;32m      2\u001b[0m \u001b[0;34m\u001b[0m\u001b[0m\n\u001b[1;32m      3\u001b[0m \u001b[0mtuple1\u001b[0m \u001b[0;34m=\u001b[0m \u001b[0;34m(\u001b[0m\u001b[0;36m0\u001b[0m\u001b[0;34m,\u001b[0m \u001b[0;36m1\u001b[0m\u001b[0;34m,\u001b[0m \u001b[0;36m2\u001b[0m\u001b[0;34m,\u001b[0m \u001b[0;36m3\u001b[0m\u001b[0;34m)\u001b[0m\u001b[0;34m\u001b[0m\u001b[0;34m\u001b[0m\u001b[0m\n\u001b[0;32m----> 4\u001b[0;31m \u001b[0mtuple1\u001b[0m\u001b[0;34m[\u001b[0m\u001b[0;36m0\u001b[0m\u001b[0;34m]\u001b[0m \u001b[0;34m=\u001b[0m \u001b[0;36m4\u001b[0m\u001b[0;34m\u001b[0m\u001b[0;34m\u001b[0m\u001b[0m\n\u001b[0m\u001b[1;32m      5\u001b[0m \u001b[0mprint\u001b[0m\u001b[0;34m(\u001b[0m\u001b[0mtuple1\u001b[0m\u001b[0;34m)\u001b[0m\u001b[0;34m\u001b[0m\u001b[0;34m\u001b[0m\u001b[0m\n",
            "\u001b[0;31mTypeError\u001b[0m: 'tuple' object does not support item assignment"
          ]
        }
      ]
    },
    {
      "cell_type": "code",
      "source": [
        "# strings are immutable\n",
        "\n",
        "message = \"Welcome to GeeksforGeeks\"\n",
        "message[0] = 'p'\n",
        "print(message)"
      ],
      "metadata": {
        "colab": {
          "base_uri": "https://localhost:8080/",
          "height": 198
        },
        "id": "JtmJQ9aJ9dtO",
        "outputId": "f9dd280f-a3d9-4b68-e200-d42534174174"
      },
      "execution_count": 9,
      "outputs": [
        {
          "output_type": "error",
          "ename": "TypeError",
          "evalue": "'str' object does not support item assignment",
          "traceback": [
            "\u001b[0;31m---------------------------------------------------------------------------\u001b[0m",
            "\u001b[0;31mTypeError\u001b[0m                                 Traceback (most recent call last)",
            "\u001b[0;32m/tmp/ipython-input-405640284.py\u001b[0m in \u001b[0;36m<cell line: 0>\u001b[0;34m()\u001b[0m\n\u001b[1;32m      2\u001b[0m \u001b[0;34m\u001b[0m\u001b[0m\n\u001b[1;32m      3\u001b[0m \u001b[0mmessage\u001b[0m \u001b[0;34m=\u001b[0m \u001b[0;34m\"Welcome to GeeksforGeeks\"\u001b[0m\u001b[0;34m\u001b[0m\u001b[0;34m\u001b[0m\u001b[0m\n\u001b[0;32m----> 4\u001b[0;31m \u001b[0mmessage\u001b[0m\u001b[0;34m[\u001b[0m\u001b[0;36m0\u001b[0m\u001b[0;34m]\u001b[0m \u001b[0;34m=\u001b[0m \u001b[0;34m'p'\u001b[0m\u001b[0;34m\u001b[0m\u001b[0;34m\u001b[0m\u001b[0m\n\u001b[0m\u001b[1;32m      5\u001b[0m \u001b[0mprint\u001b[0m\u001b[0;34m(\u001b[0m\u001b[0mmessage\u001b[0m\u001b[0;34m)\u001b[0m\u001b[0;34m\u001b[0m\u001b[0;34m\u001b[0m\u001b[0m\n",
            "\u001b[0;31mTypeError\u001b[0m: 'str' object does not support item assignment"
          ]
        }
      ]
    },
    {
      "cell_type": "code",
      "source": [
        "# Immutable Examples\n",
        "\n",
        "# int\n",
        "x = 10\n",
        "print(\"int before:\", id(x))\n",
        "x += 1\n",
        "print(\"int after :\", id(x))  # Different ID → new object\n",
        "\n",
        "# float\n",
        "f = 3.14\n",
        "print(\"\\nfloat before:\", id(f))\n",
        "f *= 2\n",
        "print(\"float after :\", id(f))\n",
        "\n",
        "# bool\n",
        "b = True\n",
        "print(\"\\nbool before:\", id(b))\n",
        "b = not b\n",
        "print(\"bool after :\", id(b))\n",
        "\n",
        "# str\n",
        "s = \"hello\"\n",
        "print(\"\\nstr before:\", id(s))\n",
        "s += \" world\"\n",
        "print(\"str after :\", id(s))\n",
        "\n",
        "# tuple\n",
        "t = (1, 2, 3)\n",
        "print(\"\\ntuple before:\", id(t))\n",
        "t += (4,)\n",
        "print(\"tuple after :\", id(t))\n",
        "\n",
        "# frozenset\n",
        "fs = frozenset([1, 2])\n",
        "print(\"\\nfrozenset before:\", id(fs))\n",
        "fs = fs.union([3])\n",
        "print(\"frozenset after :\", id(fs))\n",
        "\n",
        "# bytes\n",
        "by = b\"abc\"\n",
        "print(\"\\nbytes before:\", id(by))\n",
        "by += b\"d\"\n",
        "print(\"bytes after :\", id(by))"
      ],
      "metadata": {
        "colab": {
          "base_uri": "https://localhost:8080/"
        },
        "id": "CCKyYrxT9mMe",
        "outputId": "2073d514-4866-4305-d4f1-0e027819cbff"
      },
      "execution_count": 11,
      "outputs": [
        {
          "output_type": "stream",
          "name": "stdout",
          "text": [
            "int before: 10758024\n",
            "int after : 10758056\n",
            "\n",
            "float before: 136489523806832\n",
            "float after : 136489523821328\n",
            "\n",
            "bool before: 9696896\n",
            "bool after : 9623328\n",
            "\n",
            "str before: 136490457202160\n",
            "str after : 136489521431152\n",
            "\n",
            "tuple before: 136489522787328\n",
            "tuple after : 136489522454480\n",
            "\n",
            "frozenset before: 136489522337536\n",
            "frozenset after : 136489522335296\n",
            "\n",
            "bytes before: 136489525982336\n",
            "bytes after : 136489539966208\n"
          ]
        }
      ]
    },
    {
      "cell_type": "code",
      "source": [
        "# Mutable Examples\n",
        "\n",
        "# list\n",
        "lst = [1, 2, 3]\n",
        "print(\"list before:\", id(lst), lst)\n",
        "lst.append(4)\n",
        "print(\"list after :\", id(lst), lst)  # Same ID, contents changed\n",
        "\n",
        "# dict\n",
        "d = {\"a\": 1, \"b\": 2}\n",
        "print(\"\\ndict before:\", id(d), d)\n",
        "d[\"c\"] = 3\n",
        "print(\"dict after :\", id(d), d)\n",
        "\n",
        "# set\n",
        "st = {1, 2, 3}\n",
        "print(\"\\nset before:\", id(st), st)\n",
        "st.add(4)\n",
        "print(\"set after :\", id(st), st)\n",
        "\n",
        "# bytearray\n",
        "ba = bytearray(b\"abc\")\n",
        "print(\"\\nbytearray before:\", id(ba), ba)\n",
        "ba[0] = 100  # 'd' in ASCII\n",
        "print(\"bytearray after :\", id(ba), ba)\n",
        "\n",
        "# custom class instances\n",
        "class MyClass:\n",
        "    def __init__(self, value):\n",
        "        self.value = value\n",
        "\n",
        "obj = MyClass(10)\n",
        "print(\"\\ncustom class before:\", id(obj), obj.value)\n",
        "obj.value += 5\n",
        "print(\"custom class after :\", id(obj), obj.value)"
      ],
      "metadata": {
        "colab": {
          "base_uri": "https://localhost:8080/"
        },
        "id": "3yx2h_vP-DKv",
        "outputId": "6f6c65b0-0739-4b5a-f260-87d3a6d075a2"
      },
      "execution_count": 12,
      "outputs": [
        {
          "output_type": "stream",
          "name": "stdout",
          "text": [
            "list before: 136489521487680 [1, 2, 3]\n",
            "list after : 136489521487680 [1, 2, 3, 4]\n",
            "\n",
            "dict before: 136489522695232 {'a': 1, 'b': 2}\n",
            "dict after : 136489522695232 {'a': 1, 'b': 2, 'c': 3}\n",
            "\n",
            "set before: 136489522340672 {1, 2, 3}\n",
            "set after : 136489522340672 {1, 2, 3, 4}\n",
            "\n",
            "bytearray before: 136489521488880 bytearray(b'abc')\n",
            "bytearray after : 136489521488880 bytearray(b'dbc')\n",
            "\n",
            "custom class before: 136489522535632 10\n",
            "custom class after : 136489522535632 15\n"
          ]
        }
      ]
    },
    {
      "cell_type": "code",
      "source": [
        "# Identity vs Equality vs Aliasing\n",
        "\n",
        "# --- Identity (is) ---\n",
        "a = [1, 2, 3]\n",
        "b = a          # same object\n",
        "c = [1, 2, 3]  # different object but same contents\n",
        "\n",
        "print(\"a is b:\", a is b)   # True  → same object in memory\n",
        "print(\"a is c:\", a is c)   # False → different object\n",
        "print(\"id(a):\", id(a))\n",
        "print(\"id(b):\", id(b))\n",
        "print(\"id(c):\", id(c))\n",
        "\n",
        "# --- Equality (==) ---\n",
        "print(\"\\na == b:\", a == b)  # True → same values\n",
        "print(\"a == c:\", a == c)    # True → same values even though different objects\n",
        "\n",
        "# --- Aliasing (mutability side effect) ---\n",
        "print(\"\\nBefore change: a =\", a, \", b =\", b)\n",
        "b.append(4)   # modifies 'a' too, since b is an alias\n",
        "print(\"After change : a =\", a, \", b =\", b)\n",
        "\n",
        "# --- Aliasing bug with mutable default ---\n",
        "def append_item(item, lst=[]):  # BAD: default list reused across calls\n",
        "    lst.append(item)\n",
        "    return lst\n",
        "\n",
        "print(\"\\nFirst call :\", append_item(1))  # [1]\n",
        "print(\"Second call:\", append_item(2))    # [1, 2]  ← unexpected if you wanted a fresh list\n",
        "\n",
        "# Correct way: use None and create inside\n",
        "def append_item_safe(item, lst=None):\n",
        "    if lst is None:\n",
        "        lst = []\n",
        "    lst.append(item)\n",
        "    return lst\n",
        "\n",
        "print(\"\\nSafe first call :\", append_item_safe(1))  # [1]\n",
        "print(\"Safe second call:\", append_item_safe(2))    # [2]"
      ],
      "metadata": {
        "colab": {
          "base_uri": "https://localhost:8080/"
        },
        "id": "F4RrCQgo-Lpn",
        "outputId": "c8e4268a-fd7f-45b8-e090-026d3260f67b"
      },
      "execution_count": 13,
      "outputs": [
        {
          "output_type": "stream",
          "name": "stdout",
          "text": [
            "a is b: True\n",
            "a is c: False\n",
            "id(a): 136489522544384\n",
            "id(b): 136489522544384\n",
            "id(c): 136489521491264\n",
            "\n",
            "a == b: True\n",
            "a == c: True\n",
            "\n",
            "Before change: a = [1, 2, 3] , b = [1, 2, 3]\n",
            "After change : a = [1, 2, 3, 4] , b = [1, 2, 3, 4]\n",
            "\n",
            "First call : [1]\n",
            "Second call: [1, 2]\n",
            "\n",
            "Safe first call : [1]\n",
            "Safe second call: [2]\n"
          ]
        }
      ]
    },
    {
      "cell_type": "code",
      "source": [
        "import copy\n",
        "\n",
        "# Original nested list\n",
        "original = [[1, 2], [3, 4]]\n",
        "\n",
        "# --- Shallow copies ---\n",
        "shallow1 = list(original)       # Using list()\n",
        "shallow2 = original.copy()      # Using .copy()\n",
        "shallow3 = copy.copy(original)  # Using copy.copy()\n",
        "\n",
        "# --- Deep copy ---\n",
        "deep1 = copy.deepcopy(original)\n",
        "\n",
        "print(\"Original   :\", original)\n",
        "print(\"Shallow1   :\", shallow1)\n",
        "print(\"Shallow2   :\", shallow2)\n",
        "print(\"Shallow3   :\", shallow3)\n",
        "print(\"Deep1      :\", deep1)\n",
        "\n",
        "# --- Mutate a nested object in 'original' ---\n",
        "original[0].append(99)\n",
        "\n",
        "print(\"\\nAfter modifying original[0]:\")\n",
        "print(\"Original   :\", original)\n",
        "print(\"Shallow1   :\", shallow1)  # Changed too → nested object shared\n",
        "print(\"Shallow2   :\", shallow2)  # Changed too → nested object shared\n",
        "print(\"Shallow3   :\", shallow3)  # Changed too → nested object shared\n",
        "print(\"Deep1      :\", deep1)     # Unchanged → fully independent"
      ],
      "metadata": {
        "colab": {
          "base_uri": "https://localhost:8080/"
        },
        "id": "IKb_hKLQ-u5S",
        "outputId": "fe19cfc9-1395-4276-d8e4-3a2c0477f145"
      },
      "execution_count": 14,
      "outputs": [
        {
          "output_type": "stream",
          "name": "stdout",
          "text": [
            "Original   : [[1, 2], [3, 4]]\n",
            "Shallow1   : [[1, 2], [3, 4]]\n",
            "Shallow2   : [[1, 2], [3, 4]]\n",
            "Shallow3   : [[1, 2], [3, 4]]\n",
            "Deep1      : [[1, 2], [3, 4]]\n",
            "\n",
            "After modifying original[0]:\n",
            "Original   : [[1, 2, 99], [3, 4]]\n",
            "Shallow1   : [[1, 2, 99], [3, 4]]\n",
            "Shallow2   : [[1, 2, 99], [3, 4]]\n",
            "Shallow3   : [[1, 2, 99], [3, 4]]\n",
            "Deep1      : [[1, 2], [3, 4]]\n"
          ]
        }
      ]
    },
    {
      "cell_type": "code",
      "source": [
        "# --- int: arbitrary precision ---\n",
        "big_int = 10**100  # 1 followed by 100 zeros\n",
        "print(\"int:\", big_int)\n",
        "print(\"Type:\", type(big_int))\n",
        "\n",
        "# No overflow: we can keep going as big as memory allows\n",
        "print(\"int + 1:\", big_int + 1)\n",
        "\n",
        "# --- float: IEEE 754 double precision ---\n",
        "f = 3.141592653589793\n",
        "print(\"\\nfloat:\", f)\n",
        "print(\"Type :\", type(f))\n",
        "\n",
        "# Floats can lose precision for very large numbers\n",
        "print(\"Large float precision loss:\", 1.234567890123456789e20)\n",
        "\n",
        "# --- complex: a + bj ---\n",
        "z = 3 + 4j\n",
        "print(\"\\ncomplex:\", z)\n",
        "print(\"Real part:\", z.real)\n",
        "print(\"Imag part:\", z.imag)\n",
        "print(\"Magnitude:\", abs(z))  # sqrt(3^2 + 4^2)\n",
        "\n",
        "# --- bool: subclass of int ---\n",
        "print(\"\\nbool True  :\", True, \"as int →\", int(True))\n",
        "print(\"bool False :\", False, \"as int →\", int(False))\n",
        "\n",
        "# True behaves like 1, False like 0\n",
        "print(\"True + True =\", True + True)   # 1 + 1 = 2\n",
        "print(\"True == 1   :\", True == 1)\n",
        "print(\"isinstance(True, int):\", isinstance(True, int))"
      ],
      "metadata": {
        "colab": {
          "base_uri": "https://localhost:8080/"
        },
        "id": "PVEdynHd_BiQ",
        "outputId": "196343c5-1a62-4119-bb95-dc432cd711b8"
      },
      "execution_count": 15,
      "outputs": [
        {
          "output_type": "stream",
          "name": "stdout",
          "text": [
            "int: 10000000000000000000000000000000000000000000000000000000000000000000000000000000000000000000000000000\n",
            "Type: <class 'int'>\n",
            "int + 1: 10000000000000000000000000000000000000000000000000000000000000000000000000000000000000000000000000001\n",
            "\n",
            "float: 3.141592653589793\n",
            "Type : <class 'float'>\n",
            "Large float precision loss: 1.2345678901234568e+20\n",
            "\n",
            "complex: (3+4j)\n",
            "Real part: 3.0\n",
            "Imag part: 4.0\n",
            "Magnitude: 5.0\n",
            "\n",
            "bool True  : True as int → 1\n",
            "bool False : False as int → 0\n",
            "True + True = 2\n",
            "True == 1   : True\n",
            "isinstance(True, int): True\n"
          ]
        }
      ]
    },
    {
      "cell_type": "code",
      "source": [
        "# --- Operator precedence demo ---\n",
        "# Highest precedence: **\n",
        "print(\"Exponentiation:\", 2 ** 3 ** 2)  # 2 ** (3 ** 2) = 2 ** 9 = 512\n",
        "\n",
        "# Unary + and -\n",
        "print(\"Unary minus:\", -5)\n",
        "print(\"Unary plus :\", +5)\n",
        "\n",
        "# Multiplication / Division / Floor division / Modulus\n",
        "print(\"7 / 2   =\", 7 / 2)     # True division → 3.5\n",
        "print(\"7 // 2  =\", 7 // 2)    # Floor division → 3\n",
        "print(\"-7 // 2 =\", -7 // 2)   # Floor division toward -∞ → -4\n",
        "# −7 ÷ 2 = −3.5\n",
        "# The next lower integer less than -3.5 is -4, not -3.\n",
        "print(\"7 % 2   =\", 7 % 2)     # Remainder → 1\n",
        "\n",
        "# Addition and subtraction\n",
        "print(\"5 + 3   =\", 5 + 3)\n",
        "print(\"5 - 3   =\", 5 - 3)\n",
        "\n",
        "# Comparisons\n",
        "print(\"3 < 5  =\", 3 < 5)\n",
        "print(\"3 == 5 =\", 3 == 5)\n",
        "\n",
        "# Logical not, and, or\n",
        "print(\"not True     =\", not True)\n",
        "print(\"True and False =\", True and False)\n",
        "print(\"True or False  =\", True or False)\n",
        "\n",
        "# Precedence in action\n",
        "expr1 = 2 + 3 * 4       # * has higher precedence than +\n",
        "expr2 = (2 + 3) * 4     # parentheses change order\n",
        "print(\"\\n2 + 3 * 4     =\", expr1)  # 14\n",
        "print(\"(2 + 3) * 4     =\", expr2)  # 20\n",
        "\n",
        "# Complex example using precedence order:\n",
        "result = not (2 + 3 * 2 > 10) and True or False\n",
        "print(\"\\nComplex precedence result:\", result)"
      ],
      "metadata": {
        "colab": {
          "base_uri": "https://localhost:8080/"
        },
        "id": "1oHPT77Q_vjU",
        "outputId": "32cbdc96-d5af-4a05-d4f6-a38208196130"
      },
      "execution_count": 18,
      "outputs": [
        {
          "output_type": "stream",
          "name": "stdout",
          "text": [
            "Exponentiation: 512\n",
            "Unary minus: -5\n",
            "Unary plus : 5\n",
            "7 / 2   = 3.5\n",
            "7 // 2  = 3\n",
            "-7 // 2 = -4\n",
            "7 % 2   = 1\n",
            "5 + 3   = 8\n",
            "5 - 3   = 2\n",
            "3 < 5  = True\n",
            "3 == 5 = False\n",
            "not True     = False\n",
            "True and False = False\n",
            "True or False  = True\n",
            "\n",
            "2 + 3 * 4     = 14\n",
            "(2 + 3) * 4     = 20\n",
            "\n",
            "Complex precedence result: True\n"
          ]
        }
      ]
    },
    {
      "cell_type": "code",
      "source": [
        "from decimal import Decimal, getcontext\n",
        "from fractions import Fraction\n",
        "\n",
        "# --- Decimal for high-precision floating-point math ---\n",
        "# Default float problem:\n",
        "print(\"0.1 + 0.2 =\", 0.1 + 0.2)\n",
        "print(\"0.1 + 0.2 == 0.3 ?\", 0.1 + 0.2 == 0.3)  # False (due to binary float rounding)\n",
        "\n",
        "# Increase precision for Decimal\n",
        "getcontext().prec = 50\n",
        "\n",
        "# Using Decimal avoids the binary floating-point issue\n",
        "d_sum = Decimal(\"0.1\") + Decimal(\"0.2\")\n",
        "print(\"\\nDecimal sum:\", d_sum)\n",
        "print(\"Decimal exact equality:\", d_sum == Decimal(\"0.3\"))  # True\n",
        "\n",
        "# --- Fraction for exact rational arithmetic ---\n",
        "f_sum = Fraction(1, 3) + Fraction(1, 6)  # 1/3 + 1/6 = 1/2\n",
        "print(\"\\nFraction sum:\", f_sum)          # Fraction(1, 2)\n",
        "print(\"As float   :\", float(f_sum))      # 0.5"
      ],
      "metadata": {
        "colab": {
          "base_uri": "https://localhost:8080/"
        },
        "id": "1rcJs2wYAo40",
        "outputId": "028e3484-d36c-4e1b-b143-0df4daf0eb0c"
      },
      "execution_count": 22,
      "outputs": [
        {
          "output_type": "stream",
          "name": "stdout",
          "text": [
            "0.1 + 0.2 == 0.3 ? False\n",
            "0.1 + 0.2 = 0.30000000000000004\n",
            "\n",
            "Decimal sum: 0.3\n",
            "Decimal exact equality: True\n",
            "\n",
            "Fraction sum: 1/2\n",
            "As float   : 0.5\n"
          ]
        }
      ]
    },
    {
      "cell_type": "code",
      "source": [
        "abs((0.1 + 0.2) - 0.3) < 1e-9  # tolerant compare"
      ],
      "metadata": {
        "colab": {
          "base_uri": "https://localhost:8080/"
        },
        "id": "lp1qQWbgBgL3",
        "outputId": "bad96f33-2103-4e65-ee82-ef363365a0a3"
      },
      "execution_count": 23,
      "outputs": [
        {
          "output_type": "execute_result",
          "data": {
            "text/plain": [
              "True"
            ]
          },
          "metadata": {},
          "execution_count": 23
        }
      ]
    },
    {
      "cell_type": "code",
      "source": [
        "# --- Creating & Escapes ---\n",
        "s = \"Hello\\n\\tWorld\"\n",
        "print(\"With escapes:\")\n",
        "print(s)  # \\n → newline, \\t → tab\n",
        "\n",
        "# Raw string: backslashes are kept literally (no escape processing)\n",
        "raw = r\"C:\\\\path\\\\file.txt\"\n",
        "print(\"\\nRaw string:\", raw)\n",
        "\n",
        "# Triple-quoted: allows multi-line strings\n",
        "multi = \"\"\"Triple-quoted\n",
        "multiline string\"\"\"\n",
        "print(\"\\nTriple-quoted string:\")\n",
        "print(multi)"
      ],
      "metadata": {
        "colab": {
          "base_uri": "https://localhost:8080/"
        },
        "id": "R7Z3sWTyBnWe",
        "outputId": "f4b39bf6-6327-488f-a8ee-519f3f65e47e"
      },
      "execution_count": 24,
      "outputs": [
        {
          "output_type": "stream",
          "name": "stdout",
          "text": [
            "With escapes:\n",
            "Hello\n",
            "\tWorld\n",
            "\n",
            "Raw string: C:\\\\path\\\\file.txt\n",
            "\n",
            "Triple-quoted string:\n",
            "Triple-quoted\n",
            "multiline string\n"
          ]
        }
      ]
    },
    {
      "cell_type": "code",
      "source": [
        "# --- Indexing & Slicing ---\n",
        "s = \"Python\"\n",
        "\n",
        "# Indexing\n",
        "print(\"\\nFirst char  :\", s[0])   # 'P'\n",
        "print(\"Last char   :\", s[-1])    # 'n'\n",
        "\n",
        "# Slicing: [start:end] (end excluded)\n",
        "print(\"s[1:4]      :\", s[1:4])   # 'yth'\n",
        "\n",
        "# Step slicing: [start:end:step]\n",
        "print(\"s[::-1]     :\", s[::-1])  # reversed → 'nohtyP'"
      ],
      "metadata": {
        "colab": {
          "base_uri": "https://localhost:8080/"
        },
        "id": "H-9CFtMBB1no",
        "outputId": "584862b5-5082-4fb2-e57c-e419ce6ccc5f"
      },
      "execution_count": 25,
      "outputs": [
        {
          "output_type": "stream",
          "name": "stdout",
          "text": [
            "\n",
            "First char  : P\n",
            "Last char   : n\n",
            "s[1:4]      : yth\n",
            "s[::-1]     : nohtyP\n"
          ]
        }
      ]
    },
    {
      "cell_type": "code",
      "source": [
        "# --- Immutability ---\n",
        "# Strings can't be changed in place — operations make new objects.\n",
        "s = \"Hello\"\n",
        "print(\"Original id:\", id(s))\n",
        "s = s + \" World\"   # Creates a new string\n",
        "print(\"After concat id:\", id(s))\n",
        "\n",
        "# Efficient concatenation\n",
        "parts = [\"a\", \"b\", \"c\"]\n",
        "joined = \"\".join(parts)  # Preferred for repeated concatenation\n",
        "print(\"\\nJoin result:\", joined)  # 'abc'"
      ],
      "metadata": {
        "colab": {
          "base_uri": "https://localhost:8080/"
        },
        "id": "r8lE53UzB2r_",
        "outputId": "5ebbc279-721c-4ad2-90c7-5b04b057d17b"
      },
      "execution_count": 26,
      "outputs": [
        {
          "output_type": "stream",
          "name": "stdout",
          "text": [
            "Original id: 136489521777520\n",
            "After concat id: 136489522783920\n",
            "\n",
            "Join result: abc\n"
          ]
        }
      ]
    },
    {
      "cell_type": "code",
      "source": [
        "# --- Common Methods ---\n",
        "print(\"\\nStrip spaces:\", \"  hi  \".strip())                   # 'hi'\n",
        "print(\"Lower & startswith:\", \"Spam\".lower().startswith(\"s\")) # True\n",
        "print(\"Split on comma:\", \"eggs,ham\".split(\",\"))              # ['eggs', 'ham']\n",
        "print(\"Join with comma:\", \",\".join([\"x\", \"y\"]))              # 'x,y'\n",
        "\n",
        "# Formatting\n",
        "print(\"Format method :\", \"Pi={:.3f}\".format(3.14159))        # Pi=3.142\n",
        "print(\"f-string      :\", f\"Pi={3.14159:.3f}\")                # Pi=3.142"
      ],
      "metadata": {
        "colab": {
          "base_uri": "https://localhost:8080/"
        },
        "id": "6cql_aZkCCbJ",
        "outputId": "0747940c-cf9c-47d6-eff6-fc39f37889f0"
      },
      "execution_count": 27,
      "outputs": [
        {
          "output_type": "stream",
          "name": "stdout",
          "text": [
            "\n",
            "Strip spaces: hi\n",
            "Lower & startswith: True\n",
            "Split on comma: ['eggs', 'ham']\n",
            "Join with comma: x,y\n",
            "Format method : Pi=3.142\n",
            "f-string      : Pi=3.142\n"
          ]
        }
      ]
    },
    {
      "cell_type": "code",
      "source": [
        "# --- Encoding & Decoding ---\n",
        "# Encode str (Unicode) → bytes\n",
        "data = \"नमस्ते\".encode(\"utf-8\")\n",
        "print(\"\\nEncoded bytes:\", data)\n",
        "\n",
        "# Decode bytes → str\n",
        "text = data.decode(\"utf-8\")\n",
        "print(\"Decoded text :\", text)\n",
        "\n",
        "# Pitfall: Keep internal processing as str, only encode/decode at boundaries\n",
        "# Example: reading/writing files, network I/O"
      ],
      "metadata": {
        "colab": {
          "base_uri": "https://localhost:8080/"
        },
        "id": "mpycJkViCFnQ",
        "outputId": "c1f684f5-980e-4287-dc59-57b7b9e5fa77"
      },
      "execution_count": 28,
      "outputs": [
        {
          "output_type": "stream",
          "name": "stdout",
          "text": [
            "\n",
            "Encoded bytes: b'\\xe0\\xa4\\xa8\\xe0\\xa4\\xae\\xe0\\xa4\\xb8\\xe0\\xa5\\x8d\\xe0\\xa4\\xa4\\xe0\\xa5\\x87'\n",
            "Decoded text : नमस्ते\n"
          ]
        }
      ]
    },
    {
      "cell_type": "code",
      "source": [
        "# --- Truthiness in Python ---\n",
        "falsy_values = [0, 0.0, 0j, \"\", [], {}, set(), range(0), None, False]\n",
        "truthy_values = [1, 3.14, \"hi\", [1], {\"a\": 1}, {1}, range(1), True]\n",
        "\n",
        "print(\"Falsy examples:\")\n",
        "for v in falsy_values:\n",
        "    print(f\"{repr(v):<10} →\", bool(v))  # All False\n",
        "\n",
        "print(\"\\nTruthy examples:\")\n",
        "for v in truthy_values:\n",
        "    print(f\"{repr(v):<10} →\", bool(v))  # All True\n",
        "\n",
        "# --- Ternary conditional expression ---\n",
        "result = True\n",
        "msg = \"OK\" if result else \"FAIL\"\n",
        "print(f\"\\nresult={result} → msg={msg}\")\n",
        "\n",
        "result = False\n",
        "msg = \"OK\" if result else \"FAIL\"\n",
        "print(f\"result={result} → msg={msg}\")"
      ],
      "metadata": {
        "colab": {
          "base_uri": "https://localhost:8080/"
        },
        "id": "EkNsJvx0CRo7",
        "outputId": "0a638f84-ea5a-4693-88fb-6189ba893636"
      },
      "execution_count": 29,
      "outputs": [
        {
          "output_type": "stream",
          "name": "stdout",
          "text": [
            "Falsy examples:\n",
            "0          → False\n",
            "0.0        → False\n",
            "0j         → False\n",
            "''         → False\n",
            "[]         → False\n",
            "{}         → False\n",
            "set()      → False\n",
            "range(0, 0) → False\n",
            "None       → False\n",
            "False      → False\n",
            "\n",
            "Truthy examples:\n",
            "1          → True\n",
            "3.14       → True\n",
            "'hi'       → True\n",
            "[1]        → True\n",
            "{'a': 1}   → True\n",
            "{1}        → True\n",
            "range(0, 1) → True\n",
            "True       → True\n",
            "\n",
            "result=True → msg=OK\n",
            "result=False → msg=FAIL\n"
          ]
        }
      ]
    },
    {
      "cell_type": "code",
      "source": [
        "# --- Exercises ---\n",
        "# 1. Write `safe_div(a, b, *, eps=1e-12)` that returns `a/b` but uses `math.isclose(b, 0, abs_tol=eps)` to avoid division by near-zero.\n",
        "# 2. Implement `normalize_spaces(s)` that collapses all whitespace runs to a single space without regex.\n",
        "# 3. Create `precise_sum(iterable)` using `math.fsum` and compare with built-in `sum` on floats.\n",
        "# 4. Implement `slugify(text)` handling Unicode normalization (hint: `unicodedata.normalize`)."
      ],
      "metadata": {
        "id": "2nah4ipxCdcq"
      },
      "execution_count": 30,
      "outputs": []
    }
  ]
}