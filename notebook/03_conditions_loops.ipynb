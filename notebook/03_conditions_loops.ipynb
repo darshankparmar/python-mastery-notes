{
  "nbformat": 4,
  "nbformat_minor": 0,
  "metadata": {
    "colab": {
      "provenance": []
    },
    "kernelspec": {
      "name": "python3",
      "display_name": "Python 3"
    },
    "language_info": {
      "name": "python"
    }
  },
  "cells": [
    {
      "cell_type": "code",
      "execution_count": 1,
      "metadata": {
        "id": "9UK71ObwSKJh",
        "colab": {
          "base_uri": "https://localhost:8080/"
        },
        "outputId": "222e0634-241d-4c46-9217-452874da76d3"
      },
      "outputs": [
        {
          "output_type": "stream",
          "name": "stdout",
          "text": [
            "List is empty\n"
          ]
        }
      ],
      "source": [
        "## **1) Truthiness and Conditional Patterns**\n",
        "\n",
        "### Example: Truthiness Checks\n",
        "items = []\n",
        "\n",
        "if not items:  # empty list is False\n",
        "    print(\"List is empty\")\n",
        "elif len(items) < 10:\n",
        "    print(\"List is small\")\n",
        "else:\n",
        "    print(\"List is large\")"
      ]
    },
    {
      "cell_type": "code",
      "source": [
        "### Example: Ternary & Walrus Operator\n",
        "\n",
        "code = 404\n",
        "status = \"OK\" if code == 200 else \"FAIL\"\n",
        "print(status)  # → FAIL\n",
        "\n",
        "buf = b\"abc\" * 500  # 1500 bytes\n",
        "if (n := len(buf)) > 1024:\n",
        "    print(f\"truncated: {n} bytes\")  # → truncated: 1500 bytes"
      ],
      "metadata": {
        "colab": {
          "base_uri": "https://localhost:8080/"
        },
        "id": "murD0mAPUmfk",
        "outputId": "5ecef6d5-0cf7-49df-9d11-03db1f83f9d9"
      },
      "execution_count": 2,
      "outputs": [
        {
          "output_type": "stream",
          "name": "stdout",
          "text": [
            "FAIL\n",
            "truncated: 1500 bytes\n"
          ]
        }
      ]
    },
    {
      "cell_type": "code",
      "source": [
        "### Example: Structural Pattern Matching (Python 3.10+)\n",
        "\n",
        "def handler(msg):\n",
        "    match msg:\n",
        "        case {\"type\": \"ping\"}:\n",
        "            return \"pong\"\n",
        "        case {\"type\": \"data\", \"payload\": [x, y]}:\n",
        "            return x + y\n",
        "        case _:\n",
        "            return None\n",
        "\n",
        "print(handler({\"type\": \"ping\"}))                  # → pong\n",
        "print(handler({\"type\": \"data\", \"payload\": [2, 3]}))  # → 5\n",
        "print(handler({\"foo\": \"bar\"}))                    # → None"
      ],
      "metadata": {
        "colab": {
          "base_uri": "https://localhost:8080/"
        },
        "id": "EpRdRE_fUnvr",
        "outputId": "02e900e8-65ed-4cd8-b31a-93af8fffa24d"
      },
      "execution_count": 3,
      "outputs": [
        {
          "output_type": "stream",
          "name": "stdout",
          "text": [
            "pong\n",
            "5\n",
            "None\n"
          ]
        }
      ]
    },
    {
      "cell_type": "code",
      "source": [
        "## **2) For-Loops, While-Loops, and Iteration Protocols**\n",
        "\n",
        "### Example: Common For-Loop Patterns\n",
        "\n",
        "seq = [\"a\", \"b\", \"c\"]\n",
        "for i in range(5):\n",
        "    print(i, end=\" \")  # → 0 1 2 3 4\n",
        "print()\n",
        "\n",
        "for i, x in enumerate(seq, start=1):\n",
        "    print(f\"{i}: {x}\")  # → 1: a, 2: b, 3: c\n",
        "\n",
        "xs, ys = [1, 2, 3], [\"one\", \"two\", \"three\"]\n",
        "for a, b in zip(xs, ys):\n",
        "    print(a, b)  # → 1 one, etc."
      ],
      "metadata": {
        "colab": {
          "base_uri": "https://localhost:8080/"
        },
        "id": "mfQPBefAUrV0",
        "outputId": "34559d54-689e-40ad-cd5d-117ff310ec6d"
      },
      "execution_count": 4,
      "outputs": [
        {
          "output_type": "stream",
          "name": "stdout",
          "text": [
            "0 1 2 3 4 \n",
            "1: a\n",
            "2: b\n",
            "3: c\n",
            "1 one\n",
            "2 two\n",
            "3 three\n"
          ]
        }
      ]
    },
    {
      "cell_type": "code",
      "source": [
        "### Example: While + Else\n",
        "\n",
        "n = 3\n",
        "while n > 0:\n",
        "    print(n)\n",
        "    n -= 1\n",
        "else:\n",
        "    print(\"Countdown finished without break\")"
      ],
      "metadata": {
        "colab": {
          "base_uri": "https://localhost:8080/"
        },
        "id": "Jk4GBb7DUuNs",
        "outputId": "cf1e81d6-876f-4484-a9e6-4c37df3d37d1"
      },
      "execution_count": 5,
      "outputs": [
        {
          "output_type": "stream",
          "name": "stdout",
          "text": [
            "3\n",
            "2\n",
            "1\n",
            "Countdown finished without break\n"
          ]
        }
      ]
    },
    {
      "cell_type": "code",
      "source": [
        "### Loop Else Gotcha\n",
        "\n",
        "for i in range(5):\n",
        "    if i == 3:\n",
        "        break\n",
        "else:\n",
        "    print(\"Loop completed fully\")  # Won’t run because of break"
      ],
      "metadata": {
        "id": "LSpX1zrjUwdL"
      },
      "execution_count": 6,
      "outputs": []
    },
    {
      "cell_type": "code",
      "source": [
        "## **3) Common Loop Idioms**\n",
        "\n",
        "### Example: Accumulation & Built-ins\n",
        "\n",
        "nums = [1, 2, 3, 4]\n",
        "print(sum(nums))       # → 10\n",
        "print(any(n > 3 for n in nums))  # → True\n",
        "print(all(n > 0 for n in nums))  # → True"
      ],
      "metadata": {
        "id": "HFUsUKSRU1uR"
      },
      "execution_count": null,
      "outputs": []
    },
    {
      "cell_type": "code",
      "source": [
        "### Example: `itertools` Tricks\n",
        "\n",
        "import itertools as it\n",
        "\n",
        "print(list(it.pairwise([1, 2, 3, 4])))  # [(1, 2), (2, 3), (3, 4)]\n",
        "\n",
        "print(list(it.permutations(\"abc\", 2)))\n",
        "# [('a', 'b'), ('a', 'c'), ('b', 'a'), ('b', 'c'), ('c', 'a'), ('c', 'b')]\n",
        "\n",
        "data = [\"apple\", \"apricot\", \"banana\", \"blueberry\"]\n",
        "grouped = {k: list(g) for k, g in it.groupby(sorted(data), key=lambda x: x[0])}\n",
        "print(grouped)\n",
        "# {'a': ['apple', 'apricot'], 'b': ['banana', 'blueberry']}"
      ],
      "metadata": {
        "colab": {
          "base_uri": "https://localhost:8080/"
        },
        "id": "gBRn8QrtU2ts",
        "outputId": "c3504335-100f-41f8-b09f-6ef653ee0253"
      },
      "execution_count": 7,
      "outputs": [
        {
          "output_type": "stream",
          "name": "stdout",
          "text": [
            "[(1, 2), (2, 3), (3, 4)]\n",
            "[('a', 'b'), ('a', 'c'), ('b', 'a'), ('b', 'c'), ('c', 'a'), ('c', 'b')]\n",
            "{'a': ['apple', 'apricot'], 'b': ['banana', 'blueberry']}\n"
          ]
        }
      ]
    },
    {
      "cell_type": "code",
      "source": [
        "### Example: Early Exit\n",
        "\n",
        "xs = [10, 20, 30, 40]\n",
        "for x in xs:\n",
        "    if x > 25:\n",
        "        found = x\n",
        "        break\n",
        "else:\n",
        "    found = None\n",
        "\n",
        "print(found)  # → 30"
      ],
      "metadata": {
        "id": "8Mdr641mU6OL",
        "outputId": "fa01453c-1c81-48ce-a797-72a59ab7e190",
        "colab": {
          "base_uri": "https://localhost:8080/"
        }
      },
      "execution_count": 8,
      "outputs": [
        {
          "output_type": "stream",
          "name": "stdout",
          "text": [
            "30\n"
          ]
        }
      ]
    },
    {
      "cell_type": "code",
      "source": [
        "## **4) Performance Tips**\n",
        "\n",
        "### Example: Comprehension vs Loop\n",
        "\n",
        "# Bad (unnecessary temp list):\n",
        "squares = []\n",
        "for x in range(10):\n",
        "    squares.append(x * x)\n",
        "\n",
        "# Good (list comprehension):\n",
        "squares = [x * x for x in range(10)]"
      ],
      "metadata": {
        "id": "odPLbKEWU7aD"
      },
      "execution_count": 10,
      "outputs": []
    },
    {
      "cell_type": "code",
      "source": [
        "### Example: Avoid Repeated Lookups\n",
        "\n",
        "# Bad:\n",
        "for _ in range(10_000):\n",
        "    math_result = (3.14159) * (3.14159)  # repeating literal lookup is trivial but symbolic example\n",
        "\n",
        "# Better:\n",
        "pi = 3.14159\n",
        "for _ in range(10_000):\n",
        "    math_result = pi * pi"
      ],
      "metadata": {
        "id": "4xr8ySRCU9tE"
      },
      "execution_count": 9,
      "outputs": []
    }
  ]
}