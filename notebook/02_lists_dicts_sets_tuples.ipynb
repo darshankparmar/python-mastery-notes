{
  "nbformat": 4,
  "nbformat_minor": 0,
  "metadata": {
    "colab": {
      "provenance": []
    },
    "kernelspec": {
      "name": "python3",
      "display_name": "Python 3"
    },
    "language_info": {
      "name": "python"
    }
  },
  "cells": [
    {
      "cell_type": "code",
      "execution_count": 1,
      "metadata": {
        "colab": {
          "base_uri": "https://localhost:8080/"
        },
        "id": "uZOUZVbhDDoS",
        "outputId": "ff33455f-7735-4f11-ec7a-f1a176118cae"
      },
      "outputs": [
        {
          "output_type": "stream",
          "name": "stdout",
          "text": [
            "Initial: [3, 1, 4]\n",
            "After append: [3, 1, 4, 1]\n",
            "After extend: [3, 1, 4, 1, 5, 9]\n",
            "After insert at front: [2, 3, 1, 4, 1, 5, 9]\n",
            "After remove 1: [2, 3, 4, 1, 5, 9]\n",
            "Popped: 9 | After pop: [2, 3, 4, 1, 5]\n",
            "Sorted in place: [1, 2, 3, 4, 5]\n",
            "Sorted copy (reverse, key=abs): [5, 4, 3, 2, 1]\n",
            "\n",
            "Slice copy: b = [1, 2, 3, 4]\n",
            "Same object? False\n",
            "Same values? True\n"
          ]
        }
      ],
      "source": [
        "# --- Lists: dynamic arrays ---\n",
        "# Ordered, mutable, heterogeneous\n",
        "arr = [3, 1, 4]\n",
        "print(\"Initial:\", arr)\n",
        "\n",
        "arr.append(1)           # Amortized O(1)\n",
        "print(\"After append:\", arr)\n",
        "\n",
        "arr.extend([5, 9])      # Add multiple items\n",
        "print(\"After extend:\", arr)\n",
        "\n",
        "arr.insert(0, 2)        # O(n) — shifts elements to make room\n",
        "print(\"After insert at front:\", arr)\n",
        "\n",
        "arr.remove(1)           # Remove first occurrence of 1\n",
        "print(\"After remove 1:\", arr)\n",
        "\n",
        "last = arr.pop()        # Removes and returns last item\n",
        "print(\"Popped:\", last, \"| After pop:\", arr)\n",
        "\n",
        "arr.sort()              # In-place sort\n",
        "print(\"Sorted in place:\", arr)\n",
        "\n",
        "# sorted() returns a new list\n",
        "sorted_arr = sorted(arr, reverse=True, key=abs)\n",
        "print(\"Sorted copy (reverse, key=abs):\", sorted_arr)\n",
        "\n",
        "# --- Slicing returns a shallow copy ---\n",
        "a = [1, 2, 3, 4]\n",
        "b = a[:]                # Copy via slice\n",
        "print(\"\\nSlice copy: b =\", b)\n",
        "print(\"Same object?\", b is a)   # False\n",
        "print(\"Same values?\", b == a)   # True"
      ]
    },
    {
      "cell_type": "code",
      "source": [
        "from collections import deque\n",
        "\n",
        "# --- Stack behavior (LIFO) ---\n",
        "stack = []\n",
        "stack.append(1)   # push\n",
        "stack.append(2)\n",
        "stack.append(3)\n",
        "print(\"Stack:\", stack)\n",
        "\n",
        "top = stack.pop()  # pop last item\n",
        "print(\"Popped:\", top, \"| Stack now:\", stack)\n",
        "\n",
        "# --- Queue behavior (FIFO) ---\n",
        "# Using list for queue: popleft is O(n) due to shifting\n",
        "queue_list = [1, 2, 3]\n",
        "first = queue_list.pop(0)  # O(n)\n",
        "print(\"\\nList as queue - popped first:\", first, \"| Remaining:\", queue_list)\n",
        "\n",
        "# collections.deque for O(1) popleft\n",
        "queue = deque([1, 2, 3])\n",
        "queue.append(4)       # enqueue\n",
        "front = queue.popleft()  # dequeue O(1)\n",
        "print(\"Deque as queue - popleft:\", front, \"| Remaining:\", queue)\n",
        "\n",
        "# --- List comprehension (preview) ---\n",
        "squares = [x*x for x in range(10) if x % 2 == 0]\n",
        "print(\"\\nEven squares:\", squares)"
      ],
      "metadata": {
        "colab": {
          "base_uri": "https://localhost:8080/"
        },
        "id": "l3StKD3-Dnzk",
        "outputId": "e5628405-26d2-4e3d-cfbd-b160d0682628"
      },
      "execution_count": 2,
      "outputs": [
        {
          "output_type": "stream",
          "name": "stdout",
          "text": [
            "Stack: [1, 2, 3]\n",
            "Popped: 3 | Stack now: [1, 2]\n",
            "\n",
            "List as queue - popped first: 1 | Remaining: [2, 3]\n",
            "Deque as queue - popleft: 1 | Remaining: deque([2, 3, 4])\n",
            "\n",
            "Even squares: [0, 4, 16, 36, 64]\n"
          ]
        }
      ]
    },
    {
      "cell_type": "code",
      "source": [
        "# --- Tuples ---\n",
        "pt = (10, 20)\n",
        "print(\"Tuple:\", pt)\n",
        "\n",
        "# Unpacking\n",
        "x, y = pt\n",
        "print(\"x =\", x, \", y =\", y)\n",
        "\n",
        "# Extended unpacking\n",
        "a, *rest = (1, 2, 3, 4)\n",
        "print(\"a =\", a, \", rest =\", rest)\n",
        "\n",
        "# Tuples are immutable\n",
        "try:\n",
        "    pt[0] = 99\n",
        "except TypeError as e:\n",
        "    print(\"\\nCan't modify tuple:\", e)\n",
        "\n",
        "# Tuples are hashable if all elements are hashable\n",
        "hashable_tuple = (1, \"a\", (2, 3))\n",
        "print(\"Hashable tuple hash:\", hash(hashable_tuple))\n",
        "\n",
        "# --- Named tuples ---\n",
        "from collections import namedtuple\n",
        "Point = namedtuple(\"Point\", \"x y\")\n",
        "\n",
        "p = Point(3, 4)\n",
        "print(\"\\nNamed tuple:\", p)\n",
        "print(\"p.x =\", p.x, \", p.y =\", p.y)\n",
        "\n",
        "# Named tuples are still tuples\n",
        "print(\"Is tuple?\", isinstance(p, tuple))"
      ],
      "metadata": {
        "colab": {
          "base_uri": "https://localhost:8080/"
        },
        "id": "DlQNuc6MDxXc",
        "outputId": "9f062202-1953-44b6-a49d-fa906a45cc0b"
      },
      "execution_count": 3,
      "outputs": [
        {
          "output_type": "stream",
          "name": "stdout",
          "text": [
            "Tuple: (10, 20)\n",
            "x = 10 , y = 20\n",
            "a = 1 , rest = [2, 3, 4]\n",
            "\n",
            "Can't modify tuple: 'tuple' object does not support item assignment\n",
            "Hashable tuple hash: -5644077422945990214\n",
            "\n",
            "Named tuple: Point(x=3, y=4)\n",
            "p.x = 3 , p.y = 4\n",
            "Is tuple? True\n"
          ]
        }
      ]
    },
    {
      "cell_type": "code",
      "source": [
        "# --- Basic dictionary usage ---\n",
        "user = {\"id\": 1, \"name\": \"Ada\"}\n",
        "print(\"Initial:\", user)\n",
        "\n",
        "# Insert / update\n",
        "user[\"email\"] = \"ada@x.com\"\n",
        "print(\"After adding email:\", user)\n",
        "\n",
        "# Safe lookup with default\n",
        "print(\"Age:\", user.get(\"age\", 0))  # default = 0\n",
        "\n",
        "# setdefault: get value if key exists, else set to default\n",
        "user.setdefault(\"roles\", []).append(\"admin\")\n",
        "print(\"After setdefault roles:\", user)\n",
        "\n",
        "# Iteration\n",
        "print(\"\\nItems:\")\n",
        "for k, v in user.items():\n",
        "    print(f\"{k} → {v}\")\n",
        "\n",
        "# --- Merging dictionaries ---\n",
        "a = {\"x\": 1, \"y\": 2}\n",
        "b = {\"y\": 20, \"z\": 3}\n",
        "\n",
        "c = a | b        # Python 3.9+: new merged dict (b overwrites conflicts)\n",
        "print(\"\\nMerge result (a | b):\", c)\n",
        "\n",
        "a |= b           # In-place merge\n",
        "print(\"After in-place merge a |= b:\", a)\n",
        "\n",
        "# --- Views ---\n",
        "keys = a.keys()  # dynamic view\n",
        "print(\"\\nKeys view:\", keys)\n",
        "a[\"w\"] = 42\n",
        "print(\"Keys after adding 'w':\", keys)  # view updates automatically\n",
        "\n",
        "# --- Hashability of keys ---\n",
        "hashable_key = (1, 2, 3)         # tuple → OK\n",
        "a[hashable_key] = \"tuple key\"\n",
        "\n",
        "try:\n",
        "    unhashable_key = [1, 2, 3]   # list → unhashable\n",
        "    a[unhashable_key] = \"list key\"\n",
        "except TypeError as e:\n",
        "    print(\"\\nUnhashable key error:\", e)"
      ],
      "metadata": {
        "colab": {
          "base_uri": "https://localhost:8080/"
        },
        "id": "PVmVMcV4D5Hc",
        "outputId": "52a30ca3-8ba1-4233-de33-1e455a42e713"
      },
      "execution_count": 4,
      "outputs": [
        {
          "output_type": "stream",
          "name": "stdout",
          "text": [
            "Initial: {'id': 1, 'name': 'Ada'}\n",
            "After adding email: {'id': 1, 'name': 'Ada', 'email': 'ada@x.com'}\n",
            "Age: 0\n",
            "After setdefault roles: {'id': 1, 'name': 'Ada', 'email': 'ada@x.com', 'roles': ['admin']}\n",
            "\n",
            "Items:\n",
            "id → 1\n",
            "name → Ada\n",
            "email → ada@x.com\n",
            "roles → ['admin']\n",
            "\n",
            "Merge result (a | b): {'x': 1, 'y': 20, 'z': 3}\n",
            "After in-place merge a |= b: {'x': 1, 'y': 20, 'z': 3}\n",
            "\n",
            "Keys view: dict_keys(['x', 'y', 'z'])\n",
            "Keys after adding 'w': dict_keys(['x', 'y', 'z', 'w'])\n",
            "\n",
            "Unhashable key error: unhashable type: 'list'\n"
          ]
        }
      ]
    },
    {
      "cell_type": "code",
      "source": [
        "# --- Basic set usage ---\n",
        "s = {1, 2, 3}\n",
        "print(\"Initial set:\", s)\n",
        "\n",
        "# Add elements (duplicates ignored)\n",
        "s.add(2)               # no effect; already present\n",
        "print(\"After add 2:\", s)\n",
        "\n",
        "# Add multiple elements\n",
        "s.update([3, 4])\n",
        "print(\"After update [3,4]:\", s)\n",
        "\n",
        "# Discard: removes if present, no error if absent\n",
        "s.discard(99)          # safe remove\n",
        "print(\"After discard 99:\", s)\n",
        "\n",
        "# Remove: raises KeyError if absent\n",
        "try:\n",
        "    s.remove(1)\n",
        "    print(\"After remove 1:\", s)\n",
        "except KeyError as e:\n",
        "    print(\"Remove error:\", e)\n",
        "\n",
        "# --- Set operations ---\n",
        "a = {1, 2, 3}\n",
        "b = {3, 4, 5}\n",
        "print(\"\\na | b  (union)       :\", a | b)\n",
        "print(\"a & b  (intersection):\", a & b)\n",
        "print(\"a - b  (difference)  :\", a - b)\n",
        "print(\"a ^ b  (symmetric diff):\", a ^ b)\n",
        "\n",
        "# --- Immutable sets ---\n",
        "fs = frozenset([1, 2, 3])\n",
        "print(\"\\nFrozenset:\", fs)\n",
        "\n",
        "# Frozensets can be dictionary keys\n",
        "d = {fs: \"immutable set key\"}\n",
        "print(\"Dict with frozenset key:\", d)"
      ],
      "metadata": {
        "colab": {
          "base_uri": "https://localhost:8080/"
        },
        "id": "wfXPrrrzECND",
        "outputId": "41d26833-942a-4af7-a63f-193f291dd910"
      },
      "execution_count": 5,
      "outputs": [
        {
          "output_type": "stream",
          "name": "stdout",
          "text": [
            "Initial set: {1, 2, 3}\n",
            "After add 2: {1, 2, 3}\n",
            "After update [3,4]: {1, 2, 3, 4}\n",
            "After discard 99: {1, 2, 3, 4}\n",
            "After remove 1: {2, 3, 4}\n",
            "\n",
            "a | b  (union)       : {1, 2, 3, 4, 5}\n",
            "a & b  (intersection): {3}\n",
            "a - b  (difference)  : {1, 2}\n",
            "a ^ b  (symmetric diff): {1, 2, 4, 5}\n",
            "\n",
            "Frozenset: frozenset({1, 2, 3})\n",
            "Dict with frozenset key: {frozenset({1, 2, 3}): 'immutable set key'}\n"
          ]
        }
      ]
    },
    {
      "cell_type": "code",
      "source": [
        "from collections import defaultdict, Counter\n",
        "\n",
        "# --- Tuples vs Lists ---\n",
        "# Tuples are smaller & faster for fixed-size data\n",
        "point_list = [1, 2]        # mutable\n",
        "point_tuple = (1, 2)       # immutable, smaller memory footprint\n",
        "\n",
        "import sys\n",
        "print(\"List size  :\", sys.getsizeof(point_list))\n",
        "print(\"Tuple size :\", sys.getsizeof(point_tuple))\n",
        "\n",
        "# --- Pre-sizing lists ---\n",
        "# Instead of appending in a loop:\n",
        "data = []\n",
        "for i in range(5):\n",
        "    data.append(i * i)\n",
        "\n",
        "# Use a comprehension: avoids repeated reallocations\n",
        "data_fast = [i * i for i in range(5)]\n",
        "print(\"\\nList comprehension result:\", data_fast)\n",
        "\n",
        "# --- defaultdict example ---\n",
        "# Sample rows for grouping\n",
        "rows = [(\"a\", 1), (\"b\", 2), (\"a\", 3), (\"b\", 4), (\"a\", 5)]\n",
        "\n",
        "dd = defaultdict(list)\n",
        "for k, v in rows:\n",
        "    dd[k].append(v)\n",
        "\n",
        "print(\"\\ndefaultdict result:\", dict(dd))\n",
        "\n",
        "# --- Counter example ---\n",
        "words = [\"apple\", \"banana\", \"apple\", \"orange\", \"banana\", \"apple\"]\n",
        "counts = Counter(words)\n",
        "print(\"\\nCounter result:\", counts)\n",
        "print(\"Top 2 words:\", counts.most_common(2))"
      ],
      "metadata": {
        "colab": {
          "base_uri": "https://localhost:8080/"
        },
        "id": "XRP108wREJkE",
        "outputId": "4a38f6c1-3d34-4ae8-d4dd-a2d68c458361"
      },
      "execution_count": 6,
      "outputs": [
        {
          "output_type": "stream",
          "name": "stdout",
          "text": [
            "List size  : 72\n",
            "Tuple size : 56\n",
            "\n",
            "List comprehension result: [0, 1, 4, 9, 16]\n",
            "\n",
            "defaultdict result: {'a': [1, 3, 5], 'b': [2, 4]}\n",
            "\n",
            "Counter result: Counter({'apple': 3, 'banana': 2, 'orange': 1})\n",
            "Top 2 words: [('apple', 3), ('banana', 2)]\n"
          ]
        }
      ]
    },
    {
      "cell_type": "code",
      "source": [
        "# --- Sample data ---\n",
        "users = [\n",
        "    {\"id\": 1, \"name\": \"Ada\", \"active\": True},\n",
        "    {\"id\": 2, \"name\": \"Linus\", \"active\": False},\n",
        "    {\"id\": 3, \"name\": \"Grace\", \"active\": True},\n",
        "]\n",
        "\n",
        "# --- Dict comprehension with filtering ---\n",
        "index = {u[\"id\"]: u for u in users if u.get(\"active\")}\n",
        "print(\"Active users index:\", index)\n",
        "# {1: {'id': 1, 'name': 'Ada', 'active': True}, 3: {...}}\n",
        "\n",
        "# --- Set comprehension to dedupe complex results ---\n",
        "emails = [\n",
        "    \"ada@example.com\",\n",
        "    \"linus@example.com\",\n",
        "    \"ada@example.com\",  # duplicate\n",
        "]\n",
        "domains = {email.split(\"@\")[1] for email in emails}\n",
        "print(\"Unique domains:\", domains)\n",
        "\n",
        "# --- Unpacking merges ---\n",
        "defaults = {\"theme\": \"light\", \"lang\": \"en\"}\n",
        "overrides = {\"lang\": \"fr\", \"show_tips\": False}\n",
        "\n",
        "merged = {**defaults, **overrides}  # overrides take precedence\n",
        "print(\"Merged settings:\", merged)"
      ],
      "metadata": {
        "colab": {
          "base_uri": "https://localhost:8080/"
        },
        "id": "yWO3gP7xETaF",
        "outputId": "efb2199f-1bf6-4adc-fd79-bd9bd3ce0b3d"
      },
      "execution_count": 8,
      "outputs": [
        {
          "output_type": "stream",
          "name": "stdout",
          "text": [
            "Active users index: {1: {'id': 1, 'name': 'Ada', 'active': True}, 3: {'id': 3, 'name': 'Grace', 'active': True}}\n",
            "Unique domains: {'example.com'}\n",
            "Merged settings: {'theme': 'light', 'lang': 'fr', 'show_tips': False}\n"
          ]
        }
      ]
    },
    {
      "cell_type": "code",
      "source": [
        "# --- Exercises ---\n",
        "# 1. Implement `stable_unique(seq)` that preserves order of first occurrence.\n",
        "# 2. Build an inverted index: given `[(doc_id, text), ...]`, map each word to the set of doc_ids.\n",
        "# 3. Given nested lists, write an iterative `flatten` that avoids recursion limits."
      ],
      "metadata": {
        "id": "Q4L4kBVaEapt"
      },
      "execution_count": 9,
      "outputs": []
    }
  ]
}